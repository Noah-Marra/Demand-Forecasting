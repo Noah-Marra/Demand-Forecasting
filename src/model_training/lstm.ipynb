{
 "cells": [
  {
   "cell_type": "code",
   "execution_count": 133,
   "metadata": {},
   "outputs": [],
   "source": [
    "import pandas as pd\n",
    "import numpy as np\n",
    "\n",
    "import matplotlib.pyplot as plt\n",
    "from sklearn.preprocessing import MinMaxScaler\n",
    "from sklearn.model_selection import TimeSeriesSplit, train_test_split\n",
    "from sklearn.metrics import mean_squared_error, root_mean_squared_error, mean_absolute_error\n",
    "\n",
    "from tensorflow.keras.models import Sequential\n",
    "from tensorflow.keras.layers import LSTM, Dense, Dropout"
   ]
  },
  {
   "cell_type": "markdown",
   "metadata": {},
   "source": [
    "## Creating Necessary Functions"
   ]
  },
  {
   "cell_type": "code",
   "execution_count": 134,
   "metadata": {},
   "outputs": [],
   "source": [
    "def preprocess(df):\n",
    "    \"\"\"\n",
    "    Preprocess the data removing uncessary data and setting elements to their correct types\n",
    "    Handle Null values by backward fill null values\n",
    "    Creating Features for our model training\n",
    "    \"\"\"\n",
    "    if 'Unnamed: 0' in df.columns:\n",
    "        df.drop(['Unnamed: 0'], axis=1, inplace=True)#remove empty column\n",
    "    if df.index.name != 'Date':    \n",
    "        df['Date'] = pd.to_datetime(df['Date']) #update column from string to datetime\n",
    "        df.set_index('Date', inplace=True) \n",
    "        df = df.sort_index()\n",
    "    df.bfill( inplace=True)\n",
    "    return df"
   ]
  },
  {
   "cell_type": "code",
   "execution_count": 135,
   "metadata": {},
   "outputs": [],
   "source": [
    "def feature_engineering(df):\n",
    "    \"\"\"\n",
    "    Creating new features and concatentating other features\n",
    "    Also using MinMaxScaler to Normalize the features between 0 and 1 to ensure large values are not weighted higher. \n",
    "    \"\"\"\n",
    "    df['Month'] = df.index.month #create a month feature to account for seasonality\n",
    "    df['Week'] = df.index.isocalendar().week #create a week feature to account for seasonality\n",
    "    df['Year'] = df.index.year\n",
    "    df['Quarter'] = df.index.quarter \n",
    "\n",
    "    features_to_scale = ['Temperature', 'Fuel_Price', 'MarkDown1', 'MarkDown2', 'MarkDown3', 'MarkDown4', 'MarkDown5', 'CPI', 'Unemployment', 'Size']\n",
    "    scaler = MinMaxScaler()\n",
    "    df[features_to_scale] = scaler.fit_transform(df[features_to_scale])\n",
    "    df['Size_Type'] = df['Size'] * df['Type'] #concatenating the 2 highly correlated features in to one.\n",
    "\n",
    "    return df"
   ]
  },
  {
   "cell_type": "code",
   "execution_count": 136,
   "metadata": {},
   "outputs": [],
   "source": [
    "def add_lags(df):\n",
    "    # Sort the DataFrame by 'Store', 'Dept', and 'Date' (assuming 'Date' is index)\n",
    "    df = df.sort_values(by=['Store', 'Dept', 'Date'])\n",
    "\n",
    "    # Define a function to add lagged features\n",
    "    def add_lag_feature(df, lag_weeks, lag_name):\n",
    "        df[lag_name] = df.groupby(['Store', 'Dept'])['Weekly_Sales'].shift(periods=lag_weeks)\n",
    "        return df\n",
    "\n",
    "    # Add lag features\n",
    "    df = add_lag_feature(df, 1, 'lag1')   # 1 week back\n",
    "    df = add_lag_feature(df, 5, 'lag2')   # 5 weeks back (1 month approx)\n",
    "    df = add_lag_feature(df, 52, 'lag3')  # 1 year back\n",
    "\n",
    "    df.fillna(0, inplace=True)  # Fill NaNs with zero\n",
    "    return df"
   ]
  },
  {
   "cell_type": "markdown",
   "metadata": {},
   "source": [
    "## Data Preprocessing\n",
    "- Use the functions that we defined above to preprocess data, add features and add lags features\n",
    "- Define Features and Target for the Model\n",
    "- Use a simple train_test_split to get train, validation, and test sets for our model training"
   ]
  },
  {
   "cell_type": "code",
   "execution_count": 137,
   "metadata": {},
   "outputs": [],
   "source": [
    "df = pd.read_csv('../data/walmart_data.csv')\n",
    "df = preprocess(df)\n",
    "df = feature_engineering(df)\n",
    "df = add_lags(df)"
   ]
  },
  {
   "cell_type": "code",
   "execution_count": 138,
   "metadata": {},
   "outputs": [
    {
     "data": {
      "text/plain": [
       "2948.041958041958"
      ]
     },
     "execution_count": 138,
     "metadata": {},
     "output_type": "execute_result"
    }
   ],
   "source": [
    "df.index.unique()\n",
    "df.groupby('Date').size().mean()"
   ]
  },
  {
   "cell_type": "code",
   "execution_count": 139,
   "metadata": {},
   "outputs": [],
   "source": [
    "features = ['Store', 'Size_Type', 'Dept', 'IsHoliday', 'CPI', 'Unemployment', 'Month', 'Week', 'Year', 'Quarter', 'lag1', 'lag2', 'lag3']\n",
    "target = 'Weekly_Sales'"
   ]
  },
  {
   "cell_type": "code",
   "execution_count": 140,
   "metadata": {},
   "outputs": [
    {
     "data": {
      "text/plain": [
       "(421570, 23)"
      ]
     },
     "execution_count": 140,
     "metadata": {},
     "output_type": "execute_result"
    }
   ],
   "source": [
    "df.shape"
   ]
  },
  {
   "cell_type": "code",
   "execution_count": 141,
   "metadata": {},
   "outputs": [
    {
     "name": "stdout",
     "output_type": "stream",
     "text": [
      "NaNs in DataFrame before creating sequences: 0\n"
     ]
    }
   ],
   "source": [
    "# Check for NaNs before sequence creation\n",
    "print(\"NaNs in DataFrame before creating sequences:\", df.isna().sum().sum())"
   ]
  },
  {
   "cell_type": "code",
   "execution_count": 142,
   "metadata": {},
   "outputs": [],
   "source": [
    "def create_sequences(data, window=10):\n",
    "    X = []\n",
    "    y = []\n",
    "    # Group data by Store and Dept\n",
    "    grouped = data.groupby(['Store', 'Dept'])\n",
    "    \n",
    "    for _, group in grouped:\n",
    "        # Sort the group by Date to maintain chronological order\n",
    "        group = group.sort_index()\n",
    "        # Iterate over the group to create sequences\n",
    "        for i in range(len(group) - window):\n",
    "            # Select a window of data points\n",
    "            X_window = group.iloc[i:i+window].drop(['Store', 'Dept'], axis=1).values\n",
    "            # Append to X as a single sequence\n",
    "            X.append(X_window)\n",
    "            # Select the target value\n",
    "            y_value = group.iloc[i + window]['Weekly_Sales']\n",
    "            y.append(y_value)\n",
    "    \n",
    "    return np.array(X), np.array(y)\n",
    "\n",
    "X, y = create_sequences(df)"
   ]
  },
  {
   "cell_type": "code",
   "execution_count": 143,
   "metadata": {},
   "outputs": [
    {
     "name": "stdout",
     "output_type": "stream",
     "text": [
      "NaNs in sequences: 0 0\n"
     ]
    }
   ],
   "source": [
    "# Convert to float32 for NaN check\n",
    "X = X.astype(np.float32)\n",
    "y = y.astype(np.float32)\n",
    "\n",
    "# Check for NaNs in sequences\n",
    "print(\"NaNs in sequences:\", np.isnan(X).sum(), np.isnan(y).sum())"
   ]
  },
  {
   "cell_type": "code",
   "execution_count": 144,
   "metadata": {},
   "outputs": [],
   "source": [
    "X_train, X_temp, y_train, y_temp = train_test_split(X, y, test_size=0.2, shuffle=False)\n",
    "X_val, X_test, y_val, y_test = train_test_split(X_temp, y_temp, test_size=0.5, shuffle=False)"
   ]
  },
  {
   "cell_type": "code",
   "execution_count": 145,
   "metadata": {},
   "outputs": [
    {
     "data": {
      "text/plain": [
       "(389257,)"
      ]
     },
     "execution_count": 145,
     "metadata": {},
     "output_type": "execute_result"
    }
   ],
   "source": [
    "y.shape"
   ]
  },
  {
   "cell_type": "code",
   "execution_count": 146,
   "metadata": {},
   "outputs": [],
   "source": [
    "X_train = np.array([[np.array(x, dtype=np.float32) for x in row] for row in X_train])\n",
    "X_test = np.array([[np.array(x, dtype=np.float32) for x in row] for row in X_test])\n",
    "X_val = np.array([[np.array(x, dtype=np.float32) for x in row] for row in X_val])"
   ]
  },
  {
   "cell_type": "markdown",
   "metadata": {},
   "source": [
    "## Creating the LSTM Model"
   ]
  },
  {
   "cell_type": "code",
   "execution_count": 147,
   "metadata": {},
   "outputs": [
    {
     "name": "stderr",
     "output_type": "stream",
     "text": [
      "c:\\Users\\nmarr\\OneDrive\\Documents\\GitHub\\Demand-Forecasting\\.venv\\Lib\\site-packages\\keras\\src\\layers\\rnn\\rnn.py:204: UserWarning: Do not pass an `input_shape`/`input_dim` argument to a layer. When using Sequential models, prefer using an `Input(shape)` object as the first layer in the model instead.\n",
      "  super().__init__(**kwargs)\n"
     ]
    }
   ],
   "source": [
    "nn_model = Sequential()\n",
    "nn_model.add(LSTM(units=50, return_sequences=True, input_shape=(X_train.shape[1], X_train.shape[2])))\n",
    "nn_model.add(Dropout(0.2))\n",
    "nn_model.add(LSTM(units=50, return_sequences=False))\n",
    "nn_model.add(Dropout(0.2))\n",
    "nn_model.add(Dense(units=1, activation='linear'))\n",
    "\n",
    "nn_model.compile(optimizer='adam', loss='mean_squared_error')"
   ]
  },
  {
   "cell_type": "markdown",
   "metadata": {},
   "source": [
    "## Training The Model\n",
    "- Train with training and validation set\n",
    "- Test with Test set"
   ]
  },
  {
   "cell_type": "code",
   "execution_count": 148,
   "metadata": {},
   "outputs": [
    {
     "name": "stdout",
     "output_type": "stream",
     "text": [
      "Epoch 1/30\n",
      "\u001b[1m9732/9732\u001b[0m \u001b[32m━━━━━━━━━━━━━━━━━━━━\u001b[0m\u001b[37m\u001b[0m \u001b[1m79s\u001b[0m 8ms/step - loss: 832667840.0000 - val_loss: 553297408.0000\n",
      "Epoch 2/30\n",
      "\u001b[1m9732/9732\u001b[0m \u001b[32m━━━━━━━━━━━━━━━━━━━━\u001b[0m\u001b[37m\u001b[0m \u001b[1m88s\u001b[0m 9ms/step - loss: 813680896.0000 - val_loss: 541038464.0000\n",
      "Epoch 3/30\n",
      "\u001b[1m9732/9732\u001b[0m \u001b[32m━━━━━━━━━━━━━━━━━━━━\u001b[0m\u001b[37m\u001b[0m \u001b[1m93s\u001b[0m 10ms/step - loss: 804896768.0000 - val_loss: 529118848.0000\n",
      "Epoch 4/30\n",
      "\u001b[1m9732/9732\u001b[0m \u001b[32m━━━━━━━━━━━━━━━━━━━━\u001b[0m\u001b[37m\u001b[0m \u001b[1m89s\u001b[0m 9ms/step - loss: 782124992.0000 - val_loss: 517515552.0000\n",
      "Epoch 5/30\n",
      "\u001b[1m9732/9732\u001b[0m \u001b[32m━━━━━━━━━━━━━━━━━━━━\u001b[0m\u001b[37m\u001b[0m \u001b[1m99s\u001b[0m 10ms/step - loss: 775026624.0000 - val_loss: 506237216.0000\n",
      "Epoch 6/30\n",
      "\u001b[1m9732/9732\u001b[0m \u001b[32m━━━━━━━━━━━━━━━━━━━━\u001b[0m\u001b[37m\u001b[0m \u001b[1m100s\u001b[0m 10ms/step - loss: 764007424.0000 - val_loss: 495261152.0000\n",
      "Epoch 7/30\n",
      "\u001b[1m9732/9732\u001b[0m \u001b[32m━━━━━━━━━━━━━━━━━━━━\u001b[0m\u001b[37m\u001b[0m \u001b[1m106s\u001b[0m 11ms/step - loss: 751029952.0000 - val_loss: 484590656.0000\n",
      "Epoch 8/30\n",
      "\u001b[1m9732/9732\u001b[0m \u001b[32m━━━━━━━━━━━━━━━━━━━━\u001b[0m\u001b[37m\u001b[0m \u001b[1m91s\u001b[0m 9ms/step - loss: 737597888.0000 - val_loss: 474158272.0000\n",
      "Epoch 9/30\n",
      "\u001b[1m9732/9732\u001b[0m \u001b[32m━━━━━━━━━━━━━━━━━━━━\u001b[0m\u001b[37m\u001b[0m \u001b[1m86s\u001b[0m 9ms/step - loss: 725562176.0000 - val_loss: 464028352.0000\n",
      "Epoch 10/30\n",
      "\u001b[1m9732/9732\u001b[0m \u001b[32m━━━━━━━━━━━━━━━━━━━━\u001b[0m\u001b[37m\u001b[0m \u001b[1m89s\u001b[0m 9ms/step - loss: 703232064.0000 - val_loss: 454153440.0000\n",
      "Epoch 11/30\n",
      "\u001b[1m9732/9732\u001b[0m \u001b[32m━━━━━━━━━━━━━━━━━━━━\u001b[0m\u001b[37m\u001b[0m \u001b[1m84s\u001b[0m 9ms/step - loss: 700784064.0000 - val_loss: 444551072.0000\n",
      "Epoch 12/30\n",
      "\u001b[1m9732/9732\u001b[0m \u001b[32m━━━━━━━━━━━━━━━━━━━━\u001b[0m\u001b[37m\u001b[0m \u001b[1m88s\u001b[0m 9ms/step - loss: 687173440.0000 - val_loss: 435192160.0000\n",
      "Epoch 13/30\n",
      "\u001b[1m9732/9732\u001b[0m \u001b[32m━━━━━━━━━━━━━━━━━━━━\u001b[0m\u001b[37m\u001b[0m \u001b[1m84s\u001b[0m 9ms/step - loss: 664373504.0000 - val_loss: 426020000.0000\n",
      "Epoch 14/30\n",
      "\u001b[1m9732/9732\u001b[0m \u001b[32m━━━━━━━━━━━━━━━━━━━━\u001b[0m\u001b[37m\u001b[0m \u001b[1m86s\u001b[0m 9ms/step - loss: 655356416.0000 - val_loss: 417096576.0000\n",
      "Epoch 15/30\n",
      "\u001b[1m9732/9732\u001b[0m \u001b[32m━━━━━━━━━━━━━━━━━━━━\u001b[0m\u001b[37m\u001b[0m \u001b[1m84s\u001b[0m 9ms/step - loss: 649357312.0000 - val_loss: 408392800.0000\n",
      "Epoch 16/30\n",
      "\u001b[1m9732/9732\u001b[0m \u001b[32m━━━━━━━━━━━━━━━━━━━━\u001b[0m\u001b[37m\u001b[0m \u001b[1m98s\u001b[0m 10ms/step - loss: 645557760.0000 - val_loss: 399904192.0000\n",
      "Epoch 17/30\n",
      "\u001b[1m9732/9732\u001b[0m \u001b[32m━━━━━━━━━━━━━━━━━━━━\u001b[0m\u001b[37m\u001b[0m \u001b[1m95s\u001b[0m 10ms/step - loss: 626665472.0000 - val_loss: 391601600.0000\n",
      "Epoch 18/30\n",
      "\u001b[1m9732/9732\u001b[0m \u001b[32m━━━━━━━━━━━━━━━━━━━━\u001b[0m\u001b[37m\u001b[0m \u001b[1m88s\u001b[0m 9ms/step - loss: 616032384.0000 - val_loss: 383491744.0000\n",
      "Epoch 19/30\n",
      "\u001b[1m9732/9732\u001b[0m \u001b[32m━━━━━━━━━━━━━━━━━━━━\u001b[0m\u001b[37m\u001b[0m \u001b[1m130s\u001b[0m 13ms/step - loss: 599110656.0000 - val_loss: 375598144.0000\n",
      "Epoch 20/30\n",
      "\u001b[1m9732/9732\u001b[0m \u001b[32m━━━━━━━━━━━━━━━━━━━━\u001b[0m\u001b[37m\u001b[0m \u001b[1m248s\u001b[0m 25ms/step - loss: 599231232.0000 - val_loss: 367907936.0000\n",
      "Epoch 21/30\n",
      "\u001b[1m9732/9732\u001b[0m \u001b[32m━━━━━━━━━━━━━━━━━━━━\u001b[0m\u001b[37m\u001b[0m \u001b[1m124s\u001b[0m 13ms/step - loss: 586155072.0000 - val_loss: 360345024.0000\n",
      "Epoch 22/30\n",
      "\u001b[1m9732/9732\u001b[0m \u001b[32m━━━━━━━━━━━━━━━━━━━━\u001b[0m\u001b[37m\u001b[0m \u001b[1m86s\u001b[0m 9ms/step - loss: 582049024.0000 - val_loss: 352956224.0000\n",
      "Epoch 23/30\n",
      "\u001b[1m9732/9732\u001b[0m \u001b[32m━━━━━━━━━━━━━━━━━━━━\u001b[0m\u001b[37m\u001b[0m \u001b[1m101s\u001b[0m 10ms/step - loss: 570204224.0000 - val_loss: 345768768.0000\n",
      "Epoch 24/30\n",
      "\u001b[1m9732/9732\u001b[0m \u001b[32m━━━━━━━━━━━━━━━━━━━━\u001b[0m\u001b[37m\u001b[0m \u001b[1m96s\u001b[0m 10ms/step - loss: 562674176.0000 - val_loss: 338811200.0000\n",
      "Epoch 25/30\n",
      "\u001b[1m9732/9732\u001b[0m \u001b[32m━━━━━━━━━━━━━━━━━━━━\u001b[0m\u001b[37m\u001b[0m \u001b[1m92s\u001b[0m 9ms/step - loss: 542013696.0000 - val_loss: 331983168.0000\n",
      "Epoch 26/30\n",
      "\u001b[1m9732/9732\u001b[0m \u001b[32m━━━━━━━━━━━━━━━━━━━━\u001b[0m\u001b[37m\u001b[0m \u001b[1m105s\u001b[0m 11ms/step - loss: 542354688.0000 - val_loss: 325186528.0000\n",
      "Epoch 27/30\n",
      "\u001b[1m9732/9732\u001b[0m \u001b[32m━━━━━━━━━━━━━━━━━━━━\u001b[0m\u001b[37m\u001b[0m \u001b[1m115s\u001b[0m 12ms/step - loss: 532104480.0000 - val_loss: 318704480.0000\n",
      "Epoch 28/30\n",
      "\u001b[1m9732/9732\u001b[0m \u001b[32m━━━━━━━━━━━━━━━━━━━━\u001b[0m\u001b[37m\u001b[0m \u001b[1m110s\u001b[0m 11ms/step - loss: 528124896.0000 - val_loss: 312317632.0000\n",
      "Epoch 29/30\n",
      "\u001b[1m9732/9732\u001b[0m \u001b[32m━━━━━━━━━━━━━━━━━━━━\u001b[0m\u001b[37m\u001b[0m \u001b[1m200s\u001b[0m 21ms/step - loss: 513800096.0000 - val_loss: 306108480.0000\n",
      "Epoch 30/30\n",
      "\u001b[1m9732/9732\u001b[0m \u001b[32m━━━━━━━━━━━━━━━━━━━━\u001b[0m\u001b[37m\u001b[0m \u001b[1m211s\u001b[0m 22ms/step - loss: 507607648.0000 - val_loss: 300013184.0000\n"
     ]
    }
   ],
   "source": [
    "history = nn_model.fit(X_train, y_train, epochs=30, batch_size=32, validation_data=(X_val, y_val))"
   ]
  },
  {
   "cell_type": "markdown",
   "metadata": {},
   "source": [
    "### Testing on Subset of Data"
   ]
  },
  {
   "cell_type": "code",
   "execution_count": 192,
   "metadata": {},
   "outputs": [
    {
     "name": "stdout",
     "output_type": "stream",
     "text": [
      "\u001b[1m1217/1217\u001b[0m \u001b[32m━━━━━━━━━━━━━━━━━━━━\u001b[0m\u001b[37m\u001b[0m \u001b[1m7s\u001b[0m 6ms/step\n"
     ]
    }
   ],
   "source": [
    "y_pred = nn_model.predict(X_val)"
   ]
  },
  {
   "cell_type": "code",
   "execution_count": 194,
   "metadata": {},
   "outputs": [
    {
     "name": "stdout",
     "output_type": "stream",
     "text": [
      "<class 'pandas.core.indexes.datetimes.DatetimeIndex'>\n"
     ]
    }
   ],
   "source": [
    "test_dates = df.index[-len(X_val):]"
   ]
  },
  {
   "cell_type": "code",
   "execution_count": 198,
   "metadata": {},
   "outputs": [
    {
     "data": {
      "image/png": "[encoded data removed]",
      "text/plain": [
       "<Figure size 1000x600 with 1 Axes>"
      ]
     },
     "metadata": {},
     "output_type": "display_data"
    }
   ],
   "source": [
    "plt.figure(figsize=(10, 6))\n",
    "plt.scatter(test_dates, y_val, label='Actual', color='blue')\n",
    "plt.scatter(test_dates, y_pred, label='Predicted', color='orange')\n",
    "plt.title('Actual vs Predicted')\n",
    "plt.legend()\n",
    "plt.show()"
   ]
  },
  {
   "cell_type": "code",
   "execution_count": 151,
   "metadata": {},
   "outputs": [
    {
     "ename": "KeyError",
     "evalue": "'Value based partial slicing on non-monotonic DatetimeIndexes with non-existing keys is not allowed.'",
     "output_type": "error",
     "traceback": [
      "\u001b[1;31m---------------------------------------------------------------------------\u001b[0m",
      "\u001b[1;31mKeyError\u001b[0m                                  Traceback (most recent call last)",
      "Cell \u001b[1;32mIn[151], line 3\u001b[0m\n\u001b[0;32m      1\u001b[0m start_date \u001b[38;5;241m=\u001b[39m \u001b[38;5;124m'\u001b[39m\u001b[38;5;124m2012-08-01\u001b[39m\u001b[38;5;124m'\u001b[39m\n\u001b[0;32m      2\u001b[0m end_date \u001b[38;5;241m=\u001b[39m \u001b[38;5;124m'\u001b[39m\u001b[38;5;124m2012-09-01\u001b[39m\u001b[38;5;124m'\u001b[39m\n\u001b[1;32m----> 3\u001b[0m filtered_df \u001b[38;5;241m=\u001b[39m \u001b[43mdf\u001b[49m\u001b[38;5;241;43m.\u001b[39;49m\u001b[43mloc\u001b[49m\u001b[43m[\u001b[49m\u001b[43mstart_date\u001b[49m\u001b[43m:\u001b[49m\u001b[43mend_date\u001b[49m\u001b[43m]\u001b[49m\n\u001b[0;32m      4\u001b[0m y_pred \u001b[38;5;241m=\u001b[39m y_pred\u001b[38;5;241m.\u001b[39mloc[start_date:end_date]\n\u001b[0;32m      6\u001b[0m ax \u001b[38;5;241m=\u001b[39m filtered_df[\u001b[38;5;124m'\u001b[39m\u001b[38;5;124mWeekly_Sales\u001b[39m\u001b[38;5;124m'\u001b[39m]\u001b[38;5;241m.\u001b[39mplot(figsize\u001b[38;5;241m=\u001b[39m(\u001b[38;5;241m15\u001b[39m, \u001b[38;5;241m5\u001b[39m), label\u001b[38;5;241m=\u001b[39m\u001b[38;5;124m'\u001b[39m\u001b[38;5;124mTruth Data\u001b[39m\u001b[38;5;124m'\u001b[39m)\n",
      "File \u001b[1;32mc:\\Users\\nmarr\\OneDrive\\Documents\\GitHub\\Demand-Forecasting\\.venv\\Lib\\site-packages\\pandas\\core\\indexing.py:1191\u001b[0m, in \u001b[0;36m_LocationIndexer.__getitem__\u001b[1;34m(self, key)\u001b[0m\n\u001b[0;32m   1189\u001b[0m maybe_callable \u001b[38;5;241m=\u001b[39m com\u001b[38;5;241m.\u001b[39mapply_if_callable(key, \u001b[38;5;28mself\u001b[39m\u001b[38;5;241m.\u001b[39mobj)\n\u001b[0;32m   1190\u001b[0m maybe_callable \u001b[38;5;241m=\u001b[39m \u001b[38;5;28mself\u001b[39m\u001b[38;5;241m.\u001b[39m_check_deprecated_callable_usage(key, maybe_callable)\n\u001b[1;32m-> 1191\u001b[0m \u001b[38;5;28;01mreturn\u001b[39;00m \u001b[38;5;28;43mself\u001b[39;49m\u001b[38;5;241;43m.\u001b[39;49m\u001b[43m_getitem_axis\u001b[49m\u001b[43m(\u001b[49m\u001b[43mmaybe_callable\u001b[49m\u001b[43m,\u001b[49m\u001b[43m \u001b[49m\u001b[43maxis\u001b[49m\u001b[38;5;241;43m=\u001b[39;49m\u001b[43maxis\u001b[49m\u001b[43m)\u001b[49m\n",
      "File \u001b[1;32mc:\\Users\\nmarr\\OneDrive\\Documents\\GitHub\\Demand-Forecasting\\.venv\\Lib\\site-packages\\pandas\\core\\indexing.py:1411\u001b[0m, in \u001b[0;36m_LocIndexer._getitem_axis\u001b[1;34m(self, key, axis)\u001b[0m\n\u001b[0;32m   1409\u001b[0m \u001b[38;5;28;01mif\u001b[39;00m \u001b[38;5;28misinstance\u001b[39m(key, \u001b[38;5;28mslice\u001b[39m):\n\u001b[0;32m   1410\u001b[0m     \u001b[38;5;28mself\u001b[39m\u001b[38;5;241m.\u001b[39m_validate_key(key, axis)\n\u001b[1;32m-> 1411\u001b[0m     \u001b[38;5;28;01mreturn\u001b[39;00m \u001b[38;5;28;43mself\u001b[39;49m\u001b[38;5;241;43m.\u001b[39;49m\u001b[43m_get_slice_axis\u001b[49m\u001b[43m(\u001b[49m\u001b[43mkey\u001b[49m\u001b[43m,\u001b[49m\u001b[43m \u001b[49m\u001b[43maxis\u001b[49m\u001b[38;5;241;43m=\u001b[39;49m\u001b[43maxis\u001b[49m\u001b[43m)\u001b[49m\n\u001b[0;32m   1412\u001b[0m \u001b[38;5;28;01melif\u001b[39;00m com\u001b[38;5;241m.\u001b[39mis_bool_indexer(key):\n\u001b[0;32m   1413\u001b[0m     \u001b[38;5;28;01mreturn\u001b[39;00m \u001b[38;5;28mself\u001b[39m\u001b[38;5;241m.\u001b[39m_getbool_axis(key, axis\u001b[38;5;241m=\u001b[39maxis)\n",
      "File \u001b[1;32mc:\\Users\\nmarr\\OneDrive\\Documents\\GitHub\\Demand-Forecasting\\.venv\\Lib\\site-packages\\pandas\\core\\indexing.py:1443\u001b[0m, in \u001b[0;36m_LocIndexer._get_slice_axis\u001b[1;34m(self, slice_obj, axis)\u001b[0m\n\u001b[0;32m   1440\u001b[0m     \u001b[38;5;28;01mreturn\u001b[39;00m obj\u001b[38;5;241m.\u001b[39mcopy(deep\u001b[38;5;241m=\u001b[39m\u001b[38;5;28;01mFalse\u001b[39;00m)\n\u001b[0;32m   1442\u001b[0m labels \u001b[38;5;241m=\u001b[39m obj\u001b[38;5;241m.\u001b[39m_get_axis(axis)\n\u001b[1;32m-> 1443\u001b[0m indexer \u001b[38;5;241m=\u001b[39m \u001b[43mlabels\u001b[49m\u001b[38;5;241;43m.\u001b[39;49m\u001b[43mslice_indexer\u001b[49m\u001b[43m(\u001b[49m\u001b[43mslice_obj\u001b[49m\u001b[38;5;241;43m.\u001b[39;49m\u001b[43mstart\u001b[49m\u001b[43m,\u001b[49m\u001b[43m \u001b[49m\u001b[43mslice_obj\u001b[49m\u001b[38;5;241;43m.\u001b[39;49m\u001b[43mstop\u001b[49m\u001b[43m,\u001b[49m\u001b[43m \u001b[49m\u001b[43mslice_obj\u001b[49m\u001b[38;5;241;43m.\u001b[39;49m\u001b[43mstep\u001b[49m\u001b[43m)\u001b[49m\n\u001b[0;32m   1445\u001b[0m \u001b[38;5;28;01mif\u001b[39;00m \u001b[38;5;28misinstance\u001b[39m(indexer, \u001b[38;5;28mslice\u001b[39m):\n\u001b[0;32m   1446\u001b[0m     \u001b[38;5;28;01mreturn\u001b[39;00m \u001b[38;5;28mself\u001b[39m\u001b[38;5;241m.\u001b[39mobj\u001b[38;5;241m.\u001b[39m_slice(indexer, axis\u001b[38;5;241m=\u001b[39maxis)\n",
      "File \u001b[1;32mc:\\Users\\nmarr\\OneDrive\\Documents\\GitHub\\Demand-Forecasting\\.venv\\Lib\\site-packages\\pandas\\core\\indexes\\datetimes.py:697\u001b[0m, in \u001b[0;36mDatetimeIndex.slice_indexer\u001b[1;34m(self, start, end, step)\u001b[0m\n\u001b[0;32m    694\u001b[0m     in_index \u001b[38;5;241m&\u001b[39m\u001b[38;5;241m=\u001b[39m (end_casted \u001b[38;5;241m==\u001b[39m \u001b[38;5;28mself\u001b[39m)\u001b[38;5;241m.\u001b[39many()\n\u001b[0;32m    696\u001b[0m \u001b[38;5;28;01mif\u001b[39;00m \u001b[38;5;129;01mnot\u001b[39;00m in_index:\n\u001b[1;32m--> 697\u001b[0m     \u001b[38;5;28;01mraise\u001b[39;00m \u001b[38;5;167;01mKeyError\u001b[39;00m(\n\u001b[0;32m    698\u001b[0m         \u001b[38;5;124m\"\u001b[39m\u001b[38;5;124mValue based partial slicing on non-monotonic DatetimeIndexes \u001b[39m\u001b[38;5;124m\"\u001b[39m\n\u001b[0;32m    699\u001b[0m         \u001b[38;5;124m\"\u001b[39m\u001b[38;5;124mwith non-existing keys is not allowed.\u001b[39m\u001b[38;5;124m\"\u001b[39m,\n\u001b[0;32m    700\u001b[0m     )\n\u001b[0;32m    701\u001b[0m indexer \u001b[38;5;241m=\u001b[39m mask\u001b[38;5;241m.\u001b[39mnonzero()[\u001b[38;5;241m0\u001b[39m][::step]\n\u001b[0;32m    702\u001b[0m \u001b[38;5;28;01mif\u001b[39;00m \u001b[38;5;28mlen\u001b[39m(indexer) \u001b[38;5;241m==\u001b[39m \u001b[38;5;28mlen\u001b[39m(\u001b[38;5;28mself\u001b[39m):\n",
      "\u001b[1;31mKeyError\u001b[0m: 'Value based partial slicing on non-monotonic DatetimeIndexes with non-existing keys is not allowed.'"
     ]
    }
   ],
   "source": [
    "start_date = '2012-08-01'\n",
    "end_date = '2012-09-01'\n",
    "filtered_df = df.loc[start_date:end_date]\n",
    "y_pred = y_pred.loc[start_date:end_date]\n",
    "\n",
    "ax = filtered_df['Weekly_Sales'].plot(figsize=(15, 5), label='Truth Data')\n",
    "y_pred.plot(ax=ax, style='.', label='Predictions')\n",
    "\n",
    "plt.legend()\n",
    "plt.title('Data vs Predicted Data (August 2012)')\n",
    "plt.show()"
   ]
  },
  {
   "cell_type": "code",
   "execution_count": null,
   "metadata": {},
   "outputs": [
    {
     "name": "stdout",
     "output_type": "stream",
     "text": [
      "\u001b[1m1217/1217\u001b[0m \u001b[32m━━━━━━━━━━━━━━━━━━━━\u001b[0m\u001b[37m\u001b[0m \u001b[1m8s\u001b[0m 6ms/step - loss: nan\n",
      "Test Loss: nan\n"
     ]
    }
   ],
   "source": [
    "loss = nn_model.evaluate(X_test, y_test)\n",
    "print(f'Test Loss: {loss}')"
   ]
  }
 ],
 "metadata": {
  "kernelspec": {
   "display_name": ".venv",
   "language": "python",
   "name": "python3"
  },
  "language_info": {
   "codemirror_mode": {
    "name": "ipython",
    "version": 3
   },
   "file_extension": ".py",
   "mimetype": "text/x-python",
   "name": "python",
   "nbconvert_exporter": "python",
   "pygments_lexer": "ipython3",
   "version": "3.11.7"
  }
 },
 "nbformat": 4,
 "nbformat_minor": 2
}
