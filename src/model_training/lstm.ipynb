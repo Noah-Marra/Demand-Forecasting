{
 "cells": [
  {
   "cell_type": "code",
   "execution_count": 1,
   "metadata": {},
   "outputs": [],
   "source": [
    "import pandas as pd\n",
    "import numpy as np\n",
    "\n",
    "import matplotlib.pyplot as plt\n",
    "from sklearn.preprocessing import MinMaxScaler\n",
    "from sklearn.model_selection import TimeSeriesSplit, train_test_split\n",
    "from sklearn.metrics import mean_squared_error, root_mean_squared_error, mean_absolute_error\n",
    "\n",
    "from tensorflow.keras.models import Sequential\n",
    "from tensorflow.keras.layers import LSTM, Dense, Dropout"
   ]
  },
  {
   "cell_type": "markdown",
   "metadata": {},
   "source": [
    "## Creating Necessary Functions"
   ]
  },
  {
   "cell_type": "code",
   "execution_count": 2,
   "metadata": {},
   "outputs": [],
   "source": [
    "def preprocess(df):\n",
    "    \"\"\"\n",
    "    Preprocess the data removing uncessary data and setting elements to their correct types\n",
    "    Handle Null values by backward fill null values\n",
    "    Creating Features for our model training\n",
    "    \"\"\"\n",
    "    if 'Unnamed: 0' in df.columns:\n",
    "        df.drop(['Unnamed: 0'], axis=1, inplace=True)#remove empty column\n",
    "    if df.index.name != 'Date':    \n",
    "        df['Date'] = pd.to_datetime(df['Date']) #update column from string to datetime\n",
    "        df.set_index('Date', inplace=True) \n",
    "        df = df.sort_index()\n",
    "    df.fillna(method='bfill', inplace=True)\n",
    "    return df"
   ]
  },
  {
   "cell_type": "code",
   "execution_count": 3,
   "metadata": {},
   "outputs": [],
   "source": [
    "def feature_engineering(df):\n",
    "    \"\"\"\n",
    "    Creating new features and concatentating other features\n",
    "    Also using MinMaxScaler to Normalize the features between 0 and 1 to ensure large values are not weighted higher. \n",
    "    \"\"\"\n",
    "    df['Month'] = df.index.month #create a month feature to account for seasonality\n",
    "    df['Week'] = df.index.isocalendar().week #create a week feature to account for seasonality\n",
    "    df['Year'] = df.index.year\n",
    "    df['Quarter'] = df.index.quarter \n",
    "\n",
    "    features_to_scale = ['Temperature', 'Fuel_Price', 'MarkDown1', 'MarkDown2', 'MarkDown3', 'MarkDown4', 'MarkDown5', 'CPI', 'Unemployment', 'Size']\n",
    "    scaler = MinMaxScaler()\n",
    "    df[features_to_scale] = scaler.fit_transform(df[features_to_scale])\n",
    "    df['Size_Type'] = df['Size'] * df['Type'] #concatenating the 2 highly correlated features in to one.\n",
    "\n",
    "    return df"
   ]
  },
  {
   "cell_type": "code",
   "execution_count": 4,
   "metadata": {},
   "outputs": [],
   "source": [
    "def add_lags(df):\n",
    "    target_map = df['Weekly_Sales'].to_dict()\n",
    "    df['lag1'] = (df.index - pd.Timedelta(weeks=1)).map(target_map) #1 week back\n",
    "    df['lag2'] = (df.index - pd.Timedelta(weeks=5)).map(target_map) #5 weeks back (1 month Approx)\n",
    "    df['lag3'] = (df.index - pd.Timedelta(weeks=52)).map(target_map) #1 year back\n",
    "    return df"
   ]
  },
  {
   "cell_type": "markdown",
   "metadata": {},
   "source": [
    "## Data Preprocessing\n",
    "- Use the functions that we defined above to preprocess data, add features and add lags features\n",
    "- Define Features and Target for the Model\n",
    "- Use a simple train_test_split to get train, validation, and test sets for our model training"
   ]
  },
  {
   "cell_type": "code",
   "execution_count": 31,
   "metadata": {},
   "outputs": [
    {
     "name": "stderr",
     "output_type": "stream",
     "text": [
      "C:\\Users\\nmarr\\AppData\\Local\\Temp\\ipykernel_18308\\3351921570.py:13: FutureWarning: DataFrame.fillna with 'method' is deprecated and will raise in a future version. Use obj.ffill() or obj.bfill() instead.\n",
      "  df.fillna(method='bfill', inplace=True)\n"
     ]
    }
   ],
   "source": [
    "df = pd.read_csv('../data/walmart_data.csv')\n",
    "df = preprocess(df)\n",
    "df = feature_engineering(df)\n",
    "df = add_lags(df)"
   ]
  },
  {
   "cell_type": "code",
   "execution_count": 43,
   "metadata": {},
   "outputs": [
    {
     "data": {
      "text/plain": [
       "2948.041958041958"
      ]
     },
     "execution_count": 43,
     "metadata": {},
     "output_type": "execute_result"
    }
   ],
   "source": [
    "df.index.unique()\n",
    "df.groupby('Date').size().mean()"
   ]
  },
  {
   "cell_type": "code",
   "execution_count": null,
   "metadata": {},
   "outputs": [],
   "source": [
    "features = ['Store', 'Size_Type', 'Dept', 'IsHoliday', 'CPI', 'Unemployment', 'Month', 'Week', 'Year', 'Quarter', 'lag1', 'lag2', 'lag3']\n",
    "target = 'Weekly_Sales'"
   ]
  },
  {
   "cell_type": "code",
   "execution_count": null,
   "metadata": {},
   "outputs": [],
   "source": [
    "X_train, X_temp, y_train, y_temp = train_test_split(df[features], df[target], test_size=0.2, shuffle=False)\n",
    "X_test, X_val, y_test, y_val = train_test_split(X_temp, y_temp, test_size=0.5, shuffle=False)"
   ]
  },
  {
   "cell_type": "markdown",
   "metadata": {},
   "source": [
    "## Creating the LSTM Model"
   ]
  },
  {
   "cell_type": "code",
   "execution_count": null,
   "metadata": {},
   "outputs": [],
   "source": [
    "nn_model = Sequential()\n",
    "nn_model.add(LSTM(units=50, return_sequences=True, input_shape=(X_train.shape[1], X_train.shape[2])))\n",
    "nn_model.add(Dropout(0.2))\n",
    "nn_model.add(LSTM(units=50, return_sequences=False))\n",
    "nn_model.add(Dropout(0.2))\n",
    "nn_model.add(Dense(units=1, activation='linear'))\n",
    "\n",
    "nn_model.compile(optimizer='adam', loss='mean_squared_error')"
   ]
  },
  {
   "cell_type": "markdown",
   "metadata": {},
   "source": [
    "#### TODO:\n",
    "- Need to sort out the input shape issues when creating the LSTM\n",
    "- This is happening due to the nature of the dataset having multiple entries per store and per department at each point in time"
   ]
  },
  {
   "cell_type": "markdown",
   "metadata": {},
   "source": [
    "## Training The Model\n",
    "- Train with training and validation set\n",
    "- Test with Test set"
   ]
  },
  {
   "cell_type": "code",
   "execution_count": null,
   "metadata": {},
   "outputs": [],
   "source": [
    "history = nn_model.fit(X_train, y_train, epochs=50, batch_size=32, validation_data=(X_val, y_val))"
   ]
  },
  {
   "cell_type": "code",
   "execution_count": null,
   "metadata": {},
   "outputs": [],
   "source": [
    "loss = nn_model.evaluate(X_test, y_test)\n",
    "print(f'Test Loss: {loss}')"
   ]
  }
 ],
 "metadata": {
  "kernelspec": {
   "display_name": ".venv",
   "language": "python",
   "name": "python3"
  },
  "language_info": {
   "codemirror_mode": {
    "name": "ipython",
    "version": 3
   },
   "file_extension": ".py",
   "mimetype": "text/x-python",
   "name": "python",
   "nbconvert_exporter": "python",
   "pygments_lexer": "ipython3",
   "version": "3.11.7"
  }
 },
 "nbformat": 4,
 "nbformat_minor": 2
}
